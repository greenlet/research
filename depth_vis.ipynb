{
 "cells": [
  {
   "cell_type": "code",
   "execution_count": 1,
   "metadata": {},
   "outputs": [],
   "source": [
    "%load_ext autoreload\n",
    "%autoreload 1"
   ]
  },
  {
   "cell_type": "code",
   "execution_count": 2,
   "metadata": {},
   "outputs": [
    {
     "name": "stderr",
     "output_type": "stream",
     "text": [
      "/home/burakov/anaconda3/envs/cv36/lib/python3.6/site-packages/tensorflow/python/framework/dtypes.py:523: FutureWarning: Passing (type, 1) or '1type' as a synonym of type is deprecated; in a future version of numpy, it will be understood as (type, (1,)) / '(1,)type'.\n",
      "  _np_qint8 = np.dtype([(\"qint8\", np.int8, 1)])\n",
      "/home/burakov/anaconda3/envs/cv36/lib/python3.6/site-packages/tensorflow/python/framework/dtypes.py:524: FutureWarning: Passing (type, 1) or '1type' as a synonym of type is deprecated; in a future version of numpy, it will be understood as (type, (1,)) / '(1,)type'.\n",
      "  _np_quint8 = np.dtype([(\"quint8\", np.uint8, 1)])\n",
      "/home/burakov/anaconda3/envs/cv36/lib/python3.6/site-packages/tensorflow/python/framework/dtypes.py:525: FutureWarning: Passing (type, 1) or '1type' as a synonym of type is deprecated; in a future version of numpy, it will be understood as (type, (1,)) / '(1,)type'.\n",
      "  _np_qint16 = np.dtype([(\"qint16\", np.int16, 1)])\n",
      "/home/burakov/anaconda3/envs/cv36/lib/python3.6/site-packages/tensorflow/python/framework/dtypes.py:526: FutureWarning: Passing (type, 1) or '1type' as a synonym of type is deprecated; in a future version of numpy, it will be understood as (type, (1,)) / '(1,)type'.\n",
      "  _np_quint16 = np.dtype([(\"quint16\", np.uint16, 1)])\n",
      "/home/burakov/anaconda3/envs/cv36/lib/python3.6/site-packages/tensorflow/python/framework/dtypes.py:527: FutureWarning: Passing (type, 1) or '1type' as a synonym of type is deprecated; in a future version of numpy, it will be understood as (type, (1,)) / '(1,)type'.\n",
      "  _np_qint32 = np.dtype([(\"qint32\", np.int32, 1)])\n",
      "/home/burakov/anaconda3/envs/cv36/lib/python3.6/site-packages/tensorflow/python/framework/dtypes.py:532: FutureWarning: Passing (type, 1) or '1type' as a synonym of type is deprecated; in a future version of numpy, it will be understood as (type, (1,)) / '(1,)type'.\n",
      "  np_resource = np.dtype([(\"resource\", np.ubyte, 1)])\n"
     ]
    }
   ],
   "source": [
    "import os\n",
    "from matplotlib import pyplot as plt\n",
    "import numpy as np\n",
    "import tensorflow as tf\n",
    "from PIL import Image"
   ]
  },
  {
   "cell_type": "code",
   "execution_count": 5,
   "metadata": {},
   "outputs": [],
   "source": [
    "dir_path = '/home/burakov/Alpha/Data/nyu_depth_v2/nyu_depth_v2_labeled_vis/train/basement'\n",
    "file_name_base = '00489'\n",
    "image_name = f'rgb_{file_name_base}.jpg'\n",
    "depth_name = f'sync_depth_{file_name_base}.png'\n",
    "image_path = os.path.join(dir_path, image_name)\n",
    "depth_path = os.path.join(dir_path, depth_name)"
   ]
  },
  {
   "cell_type": "code",
   "execution_count": 6,
   "metadata": {},
   "outputs": [
    {
     "data": {
      "text/plain": [
       "('PNG',\n",
       " 'I',\n",
       " (640, 480),\n",
       " dtype('int32'),\n",
       " (480, 640),\n",
       " 0,\n",
       " 6483,\n",
       " 2641.0538053385417)"
      ]
     },
     "execution_count": 6,
     "metadata": {},
     "output_type": "execute_result"
    }
   ],
   "source": [
    "depth = Image.open(depth_path)\n",
    "d = np.asarray(depth)\n",
    "depth.format, depth.mode, depth.size, d.dtype, d.shape, d.min(), d.max(), d.mean()"
   ]
  },
  {
   "cell_type": "code",
   "execution_count": 7,
   "metadata": {},
   "outputs": [],
   "source": [
    "graph = tf.Graph()\n",
    "with graph.as_default():\n",
    "    image_tensor = tf.image.decode_jpeg(tf.read_file(image_path))\n",
    "    depth_tensor = tf.image.decode_png(tf.read_file(depth_path),\n",
    "                                       channels=0, dtype=tf.uint16)\n",
    "    depth_tensor = tf.cast(depth_tensor, tf.float32) / 1000"
   ]
  },
  {
   "cell_type": "code",
   "execution_count": 8,
   "metadata": {},
   "outputs": [],
   "source": [
    "config = tf.ConfigProto()\n",
    "config.gpu_options.allow_growth = True\n",
    "with tf.Session(graph=graph, config=config) as sess:\n",
    "    sess.run(tf.global_variables_initializer())\n",
    "    image = sess.run(image_tensor)\n",
    "    depth = sess.run(depth_tensor)"
   ]
  },
  {
   "cell_type": "code",
   "execution_count": 9,
   "metadata": {},
   "outputs": [
    {
     "name": "stdout",
     "output_type": "stream",
     "text": [
      "(480, 640, 3) uint8 0 255\n",
      "(480, 640, 1) float32 0.0 6.4830003 2.641054\n"
     ]
    }
   ],
   "source": [
    "print(image.shape, image.dtype, image.min(), image.max())\n",
    "print(depth.shape, depth.dtype, depth.min(), depth.max(), depth.mean())"
   ]
  },
  {
   "cell_type": "code",
   "execution_count": 10,
   "metadata": {},
   "outputs": [],
   "source": [
    "dir_path = '/media/burakov/Data1/Data/Arrival/CORNER_NODE_LH_1000093_E_CORNER_NODE_RH_1000094_D_on_agv_000500/cam_100/'\n",
    "num = '0000000_1574367512'\n",
    "image_name = f'cam_100_img_{num}.png'\n",
    "depth_name = f'cam_100_depth_map_{num}.ext'\n",
    "image_path = os.path.join(dir_path, image_name)\n",
    "depth_path = os.path.join(dir_path, depth_name)"
   ]
  },
  {
   "cell_type": "code",
   "execution_count": 19,
   "metadata": {},
   "outputs": [],
   "source": [
    "graph1 = tf.Graph()\n",
    "with graph1.as_default():\n",
    "    image_tensor = tf.image.decode_png(tf.read_file(image_path))\n",
    "    depth_tensor = tf.io.decode_raw(tf.read_file(depth_path), tf.float32)\n",
    "    depth_tensor = tf.cast(depth_tensor, tf.float32) / 100\n",
    "    depth_tensor = tf.reshape(depth_tensor, (2048, 3072))"
   ]
  },
  {
   "cell_type": "code",
   "execution_count": 20,
   "metadata": {},
   "outputs": [],
   "source": [
    "config = tf.ConfigProto()\n",
    "config.gpu_options.allow_growth = True\n",
    "with tf.Session(graph=graph1, config=config) as sess:\n",
    "    sess.run(tf.global_variables_initializer())\n",
    "    image = sess.run(image_tensor)\n",
    "    depth = sess.run(depth_tensor)"
   ]
  },
  {
   "cell_type": "code",
   "execution_count": 21,
   "metadata": {},
   "outputs": [
    {
     "name": "stdout",
     "output_type": "stream",
     "text": [
      "(2048, 3072, 3) uint8 0 255\n",
      "(2048, 3072) float32 1.6949999 655.04 3.9308074\n"
     ]
    }
   ],
   "source": [
    "print(image.shape, image.dtype, image.min(), image.max())\n",
    "print(depth.shape, depth.dtype, depth.min(), depth.max(), depth.mean())"
   ]
  },
  {
   "cell_type": "code",
   "execution_count": 14,
   "metadata": {},
   "outputs": [
    {
     "data": {
      "text/plain": [
       "6291456"
      ]
     },
     "execution_count": 14,
     "metadata": {},
     "output_type": "execute_result"
    }
   ],
   "source": [
    "2048*3072"
   ]
  },
  {
   "cell_type": "code",
   "execution_count": 25,
   "metadata": {},
   "outputs": [
    {
     "data": {
      "text/plain": [
       "(6291456,)"
      ]
     },
     "execution_count": 25,
     "metadata": {},
     "output_type": "execute_result"
    }
   ],
   "source": [
    "dd = np.reshape(depth, (-1,))\n",
    "dd.shape"
   ]
  },
  {
   "cell_type": "code",
   "execution_count": 29,
   "metadata": {
    "scrolled": true
   },
   "outputs": [
    {
     "data": {
      "text/plain": [
       "(array([5.737773e+06, 5.357990e+05, 1.781300e+04, 0.000000e+00,\n",
       "        0.000000e+00, 0.000000e+00, 0.000000e+00, 0.000000e+00,\n",
       "        0.000000e+00, 0.000000e+00, 0.000000e+00, 0.000000e+00,\n",
       "        0.000000e+00, 0.000000e+00, 0.000000e+00, 0.000000e+00,\n",
       "        0.000000e+00, 0.000000e+00, 0.000000e+00, 0.000000e+00,\n",
       "        0.000000e+00, 0.000000e+00, 0.000000e+00, 0.000000e+00,\n",
       "        0.000000e+00, 0.000000e+00, 0.000000e+00, 0.000000e+00,\n",
       "        0.000000e+00, 0.000000e+00, 0.000000e+00, 0.000000e+00,\n",
       "        0.000000e+00, 0.000000e+00, 0.000000e+00, 0.000000e+00,\n",
       "        0.000000e+00, 0.000000e+00, 0.000000e+00, 0.000000e+00,\n",
       "        0.000000e+00, 0.000000e+00, 0.000000e+00, 0.000000e+00,\n",
       "        0.000000e+00, 0.000000e+00, 0.000000e+00, 0.000000e+00,\n",
       "        0.000000e+00, 0.000000e+00, 0.000000e+00, 0.000000e+00,\n",
       "        0.000000e+00, 0.000000e+00, 0.000000e+00, 0.000000e+00,\n",
       "        0.000000e+00, 0.000000e+00, 0.000000e+00, 0.000000e+00,\n",
       "        0.000000e+00, 0.000000e+00, 0.000000e+00, 0.000000e+00,\n",
       "        0.000000e+00, 0.000000e+00, 0.000000e+00, 0.000000e+00,\n",
       "        0.000000e+00, 0.000000e+00, 0.000000e+00, 0.000000e+00,\n",
       "        0.000000e+00, 0.000000e+00, 0.000000e+00, 0.000000e+00,\n",
       "        0.000000e+00, 0.000000e+00, 0.000000e+00, 0.000000e+00,\n",
       "        0.000000e+00, 0.000000e+00, 0.000000e+00, 0.000000e+00,\n",
       "        0.000000e+00, 0.000000e+00, 0.000000e+00, 0.000000e+00,\n",
       "        0.000000e+00, 0.000000e+00, 0.000000e+00, 0.000000e+00,\n",
       "        0.000000e+00, 0.000000e+00, 0.000000e+00, 0.000000e+00,\n",
       "        0.000000e+00, 0.000000e+00, 0.000000e+00, 7.100000e+01]),\n",
       " array([  1.6949999,   8.22845  ,  14.7619   ,  21.29535  ,  27.828798 ,\n",
       "         34.362247 ,  40.8957   ,  47.42915  ,  53.962597 ,  60.496048 ,\n",
       "         67.029495 ,  73.56295  ,  80.0964   ,  86.629845 ,  93.1633   ,\n",
       "         99.69675  , 106.230194 , 112.76365  , 119.2971   , 125.83054  ,\n",
       "        132.364    , 138.89745  , 145.4309   , 151.96434  , 158.49779  ,\n",
       "        165.03125  , 171.5647   , 178.09814  , 184.63159  , 191.16504  ,\n",
       "        197.69849  , 204.23195  , 210.7654   , 217.29884  , 223.83229  ,\n",
       "        230.36574  , 236.89919  , 243.43265  , 249.9661   , 256.49954  ,\n",
       "        263.033    , 269.56644  , 276.09988  , 282.63333  , 289.16678  ,\n",
       "        295.70023  , 302.2337   , 308.76715  , 315.3006   , 321.83405  ,\n",
       "        328.3675   , 334.90094  , 341.4344   , 347.96783  , 354.50128  ,\n",
       "        361.03473  , 367.56818  , 374.10162  , 380.6351   , 387.16855  ,\n",
       "        393.702    , 400.23544  , 406.7689   , 413.30234  , 419.8358   ,\n",
       "        426.36923  , 432.90268  , 439.43613  , 445.96957  , 452.50302  ,\n",
       "        459.0365   , 465.56995  , 472.1034   , 478.63684  , 485.1703   ,\n",
       "        491.70374  , 498.23718  , 504.77063  , 511.30408  , 517.8375   ,\n",
       "        524.371    , 530.9044   , 537.43787  , 543.9713   , 550.50476  ,\n",
       "        557.0382   , 563.57166  , 570.1051   , 576.6386   , 583.17206  ,\n",
       "        589.7055   , 596.23895  , 602.7724   , 609.30585  , 615.8393   ,\n",
       "        622.37274  , 628.9062   , 635.43964  , 641.9731   , 648.50653  ,\n",
       "        655.04     ], dtype=float32),\n",
       " <a list of 100 Patch objects>)"
      ]
     },
     "execution_count": 29,
     "metadata": {},
     "output_type": "execute_result"
    },
    {
     "data": {
      "image/png": "[encoded data removed]",
      "text/plain": [
       "<Figure size 432x288 with 1 Axes>"
      ]
     },
     "metadata": {
      "needs_background": "light"
     },
     "output_type": "display_data"
    }
   ],
   "source": [
    "plt.hist(dd, bins=100)"
   ]
  },
  {
   "cell_type": "code",
   "execution_count": 30,
   "metadata": {},
   "outputs": [
    {
     "name": "stdout",
     "output_type": "stream",
     "text": [
      "[655.04 655.04 655.04 655.04 655.04 655.04 655.04 655.04 655.04 655.04\n",
      " 655.04 655.04 655.04 655.04 655.04 655.04 655.04 655.04 655.04 655.04\n",
      " 655.04 655.04 655.04 655.04 655.04 655.04 655.04 655.04 655.04 655.04\n",
      " 655.04 655.04 655.04 655.04 655.04 655.04 655.04 655.04 655.04 655.04\n",
      " 655.04 655.04 655.04 655.04 655.04 655.04 655.04 655.04 655.04 655.04\n",
      " 655.04 655.04 655.04 655.04 655.04 655.04 655.04 655.04 655.04 655.04\n",
      " 655.04 655.04 655.04 655.04 655.04 655.04 655.04 655.04 655.04 655.04\n",
      " 655.04]\n"
     ]
    }
   ],
   "source": [
    "print(dd[dd > 640])"
   ]
  },
  {
   "cell_type": "code",
   "execution_count": 34,
   "metadata": {},
   "outputs": [
    {
     "data": {
      "text/plain": [
       "71"
      ]
     },
     "execution_count": 34,
     "metadata": {},
     "output_type": "execute_result"
    }
   ],
   "source": [
    "np.sum(dd > 640)"
   ]
  },
  {
   "cell_type": "code",
   "execution_count": 35,
   "metadata": {},
   "outputs": [
    {
     "data": {
      "text/plain": [
       "6291385"
      ]
     },
     "execution_count": 35,
     "metadata": {},
     "output_type": "execute_result"
    }
   ],
   "source": [
    "np.sum(dd < 20)"
   ]
  },
  {
   "cell_type": "code",
   "execution_count": 36,
   "metadata": {},
   "outputs": [
    {
     "data": {
      "text/plain": [
       "6287843"
      ]
     },
     "execution_count": 36,
     "metadata": {},
     "output_type": "execute_result"
    }
   ],
   "source": [
    "np.sum(dd < 15)"
   ]
  },
  {
   "cell_type": "code",
   "execution_count": 39,
   "metadata": {},
   "outputs": [
    {
     "data": {
      "text/plain": [
       "array([[  12,  854],\n",
       "       [  27,  999],\n",
       "       [  28, 1009],\n",
       "       [  29, 1019],\n",
       "       [  31, 1038],\n",
       "       [  32, 1048],\n",
       "       [  34, 1067],\n",
       "       [  61, 1882],\n",
       "       [  67, 1881],\n",
       "       [  73, 1880],\n",
       "       [  79, 1879],\n",
       "       [  85, 1878],\n",
       "       [  91, 1877],\n",
       "       [  97, 1876],\n",
       "       [ 140, 1869],\n",
       "       [ 146, 1868],\n",
       "       [ 152, 1867],\n",
       "       [ 158, 1866],\n",
       "       [ 164, 1865],\n",
       "       [ 170, 1864],\n",
       "       [ 213, 1857],\n",
       "       [ 219, 1856],\n",
       "       [ 225, 1855],\n",
       "       [ 231, 1854],\n",
       "       [ 357, 1016],\n",
       "       [ 357, 1017],\n",
       "       [ 357, 1018],\n",
       "       [ 358, 1022],\n",
       "       [ 358, 1023],\n",
       "       [ 358, 1024],\n",
       "       [ 358, 1025],\n",
       "       [ 358, 1026],\n",
       "       [ 358, 1027],\n",
       "       [ 358, 1028],\n",
       "       [ 358, 1029],\n",
       "       [ 359, 1034],\n",
       "       [ 359, 1035],\n",
       "       [ 359, 1036],\n",
       "       [ 359, 1037],\n",
       "       [ 359, 1038],\n",
       "       [ 359, 1039],\n",
       "       [ 359, 1040],\n",
       "       [ 360, 1045],\n",
       "       [ 360, 1046],\n",
       "       [ 360, 1047],\n",
       "       [ 360, 1048],\n",
       "       [ 360, 1049],\n",
       "       [ 360, 1050],\n",
       "       [ 360, 1051],\n",
       "       [ 361, 1056],\n",
       "       [ 361, 1057],\n",
       "       [ 361, 1058],\n",
       "       [ 361, 1059],\n",
       "       [ 361, 1060],\n",
       "       [ 361, 1061],\n",
       "       [ 361, 1062],\n",
       "       [ 362, 1067],\n",
       "       [ 362, 1068],\n",
       "       [ 362, 1069],\n",
       "       [ 362, 1070],\n",
       "       [ 362, 1071],\n",
       "       [ 362, 1072],\n",
       "       [ 362, 1073],\n",
       "       [ 363, 1078],\n",
       "       [ 363, 1079],\n",
       "       [ 363, 1080],\n",
       "       [ 363, 1081],\n",
       "       [ 363, 1082],\n",
       "       [ 363, 1083],\n",
       "       [ 363, 1084],\n",
       "       [ 363, 1085]])"
      ]
     },
     "execution_count": 39,
     "metadata": {},
     "output_type": "execute_result"
    }
   ],
   "source": [
    "np.argwhere(depth > 640)"
   ]
  },
  {
   "cell_type": "code",
   "execution_count": null,
   "metadata": {},
   "outputs": [],
   "source": []
  }
 ],
 "metadata": {
  "kernelspec": {
   "display_name": "Python 3",
   "language": "python",
   "name": "python3"
  },
  "language_info": {
   "codemirror_mode": {
    "name": "ipython",
    "version": 3
   },
   "file_extension": ".py",
   "mimetype": "text/x-python",
   "name": "python",
   "nbconvert_exporter": "python",
   "pygments_lexer": "ipython3",
   "version": "3.6.9"
  }
 },
 "nbformat": 4,
 "nbformat_minor": 2
}
