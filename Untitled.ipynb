{
 "cells": [
  {
   "cell_type": "markdown",
   "metadata": {},
   "source": [
    "$a^2 + b^2 = k(ab + 1)$<br>\n",
    "Пусть для определенности $b \\geq a$, тогда:\n",
    "$k = \\dfrac{a^2 + b^2}{ab + 1} \\leq \\dfrac{ab + b^2}{a + 1} = b$\n",
    "1. $b = a$<br>\n",
    "Тогда $2a^2 = k(a^2 + 1)$. Если $a = 1$, то $k = 1$, доказано. Случая $a > 0$ быть не может, так как тогда $k = 0 (\\bmod a^2) \\Rightarrow k = ta^2 \\land \\leq b = a \\Rightarrow t = 0$, то есть единственным решением является $k = 0$"
   ]
  },
  {
   "cell_type": "markdown",
   "metadata": {},
   "source": [
    "2. $b > a$<br>\n",
    "Пусть $b = ra + p, r > 0, a > p >= 0$<br>\n",
    "Тогда $a^2 + b(ra + p) = k (\\pmod ab)$<br>\n",
    "$a^2 + bp = k (\\pmod ab)$<br>\n",
    "$a^2 + rap + p^2 = k (\\pmod ab)$<br>\n",
    "2.1. $r = 2 \\Rightarrow k = (a + p)^2 + tab$<br>\n",
    "Так как $p < a$, то $(a + p)^2 < ()$"
   ]
  },
  {
   "cell_type": "markdown",
   "metadata": {},
   "source": [
    "2.2 $r > 2$<br>\n",
    "a^2 ra^2\n",
    "\n",
    "mod a^2\n",
    "pa = k"
   ]
  }
 ],
 "metadata": {
  "kernelspec": {
   "display_name": "Python 3",
   "language": "python",
   "name": "python3"
  },
  "language_info": {
   "codemirror_mode": {
    "name": "ipython",
    "version": 3
   },
   "file_extension": ".py",
   "mimetype": "text/x-python",
   "name": "python",
   "nbconvert_exporter": "python",
   "pygments_lexer": "ipython3",
   "version": "3.7.3"
  }
 },
 "nbformat": 4,
 "nbformat_minor": 2
}
